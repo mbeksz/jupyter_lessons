{
 "cells": [
  {
   "cell_type": "code",
   "execution_count": 210,
   "id": "ac36150d-d72f-440e-8e71-1501c74a04a6",
   "metadata": {},
   "outputs": [],
   "source": [
    "import pandas as pd\n",
    "from sklearn.linear_model import LinearRegression\n",
    "from sklearn.model_selection import train_test_split"
   ]
  },
  {
   "cell_type": "code",
   "execution_count": 192,
   "id": "bf736b3e",
   "metadata": {},
   "outputs": [],
   "source": [
    "df=pd.read_csv(\"Audi_A1_listings.csv\")"
   ]
  },
  {
   "cell_type": "code",
   "execution_count": 193,
   "id": "d377f82f",
   "metadata": {},
   "outputs": [
    {
     "data": {
      "application/vnd.microsoft.datawrangler.viewer.v0+json": {
       "columns": [
        {
         "name": "index",
         "rawType": "int64",
         "type": "integer"
        },
        {
         "name": "index",
         "rawType": "int64",
         "type": "integer"
        },
        {
         "name": "Year",
         "rawType": "float64",
         "type": "float"
        },
        {
         "name": "Type",
         "rawType": "object",
         "type": "string"
        },
        {
         "name": "Mileage(miles)",
         "rawType": "float64",
         "type": "float"
        },
        {
         "name": "Engine",
         "rawType": "object",
         "type": "string"
        },
        {
         "name": "PS",
         "rawType": "float64",
         "type": "float"
        },
        {
         "name": "Transmission",
         "rawType": "object",
         "type": "string"
        },
        {
         "name": "Fuel",
         "rawType": "object",
         "type": "string"
        },
        {
         "name": "Number_of_Owners",
         "rawType": "int64",
         "type": "integer"
        },
        {
         "name": "Price(£)",
         "rawType": "float64",
         "type": "float"
        },
        {
         "name": "href",
         "rawType": "object",
         "type": "string"
        },
        {
         "name": "PPY",
         "rawType": "float64",
         "type": "float"
        },
        {
         "name": "MileageRank",
         "rawType": "int64",
         "type": "integer"
        },
        {
         "name": "PriceRank",
         "rawType": "int64",
         "type": "integer"
        },
        {
         "name": "PPYRank",
         "rawType": "int64",
         "type": "integer"
        },
        {
         "name": "Score",
         "rawType": "int64",
         "type": "integer"
        }
       ],
       "conversionMethod": "pd.DataFrame",
       "ref": "93cc4d52-d38e-48a8-aceb-1aa49b283e07",
       "rows": [
        [
         "0",
         "0",
         "2018.0",
         "Hatchback",
         "44000.0",
         "1.6L",
         "114.39842209072978",
         "Manual",
         "Diesel",
         "1",
         "14995.0",
         "https://www.autotrader.co.uk/car-details/202212122461540?year-to=2022&year-from=2012&include-delivery-option=on&make=Audi&radius=1500&model=A1&onesearchad=New&onesearchad=Nearly%20New&onesearchad=Used&advertising-location=at_cars&postcode=br49jd&sort=relevance&exclude-writeoff-categories=on&page=1&percentVehiclePriceDeposit=true",
         "2499.1666666666665",
         "215",
         "163",
         "340",
         "718"
        ],
        [
         "1",
         "4",
         "2016.0",
         "Hatchback",
         "42596.0",
         "1.0L",
         "93.68836291913216",
         "Manual",
         "Petrol",
         "3",
         "10755.0",
         "https://www.autotrader.co.uk/car-details/202210090558995?year-to=2022&year-from=2012&include-delivery-option=on&make=Audi&radius=1500&model=A1&onesearchad=New&onesearchad=Nearly%20New&onesearchad=Used&advertising-location=at_cars&postcode=br49jd&sort=relevance&exclude-writeoff-categories=on&page=1&percentVehiclePriceDeposit=true",
         "2688.75",
         "222",
         "330",
         "276",
         "828"
        ],
        [
         "2",
         "7",
         "2015.0",
         "Hatchback",
         "42700.0",
         "1.4L",
         "123.2741617357002",
         "Manual",
         "Petrol",
         "2",
         "10799.0",
         "https://www.autotrader.co.uk/car-details/202212152544160?year-to=2022&year-from=2012&include-delivery-option=on&make=Audi&radius=1500&model=A1&onesearchad=New&onesearchad=Nearly%20New&onesearchad=Used&advertising-location=at_cars&postcode=br49jd&sort=relevance&exclude-writeoff-categories=on&page=1&percentVehiclePriceDeposit=true",
         "3599.6666666666665",
         "221",
         "327",
         "94",
         "642"
        ],
        [
         "3",
         "11",
         "2014.0",
         "Hatchback",
         "86000.0",
         "1.6L",
         "103.55029585798816",
         "Manual",
         "Diesel",
         "3",
         "7490.0",
         "https://www.autotrader.co.uk/car-details/202211151697232?make=Audi&radius=1500&year-from=2012&include-delivery-option=on&model=A1&advertising-location=at_cars&exclude-writeoff-categories=on&postcode=br49jd&year-to=2022&onesearchad=New&onesearchad=Nearly%20New&onesearchad=Used&sort=relevance&page=2",
         "3745.0",
         "41",
         "449",
         "83",
         "573"
        ],
        [
         "4",
         "12",
         "2014.0",
         "Hatchback",
         "104310.0",
         "1.6L",
         "103.55029585798816",
         "Manual",
         "Diesel",
         "3",
         "7400.0",
         "https://www.autotrader.co.uk/car-details/202207298262599?make=Audi&radius=1500&year-from=2012&include-delivery-option=on&model=A1&advertising-location=at_cars&exclude-writeoff-categories=on&postcode=br49jd&year-to=2022&onesearchad=New&onesearchad=Nearly%20New&onesearchad=Used&sort=relevance&page=2",
         "3700.0",
         "12",
         "452",
         "85",
         "549"
        ]
       ],
       "shape": {
        "columns": 16,
        "rows": 5
       }
      },
      "text/html": [
       "<div>\n",
       "<style scoped>\n",
       "    .dataframe tbody tr th:only-of-type {\n",
       "        vertical-align: middle;\n",
       "    }\n",
       "\n",
       "    .dataframe tbody tr th {\n",
       "        vertical-align: top;\n",
       "    }\n",
       "\n",
       "    .dataframe thead th {\n",
       "        text-align: right;\n",
       "    }\n",
       "</style>\n",
       "<table border=\"1\" class=\"dataframe\">\n",
       "  <thead>\n",
       "    <tr style=\"text-align: right;\">\n",
       "      <th></th>\n",
       "      <th>index</th>\n",
       "      <th>Year</th>\n",
       "      <th>Type</th>\n",
       "      <th>Mileage(miles)</th>\n",
       "      <th>Engine</th>\n",
       "      <th>PS</th>\n",
       "      <th>Transmission</th>\n",
       "      <th>Fuel</th>\n",
       "      <th>Number_of_Owners</th>\n",
       "      <th>Price(£)</th>\n",
       "      <th>href</th>\n",
       "      <th>PPY</th>\n",
       "      <th>MileageRank</th>\n",
       "      <th>PriceRank</th>\n",
       "      <th>PPYRank</th>\n",
       "      <th>Score</th>\n",
       "    </tr>\n",
       "  </thead>\n",
       "  <tbody>\n",
       "    <tr>\n",
       "      <th>0</th>\n",
       "      <td>0</td>\n",
       "      <td>2018.0</td>\n",
       "      <td>Hatchback</td>\n",
       "      <td>44000.0</td>\n",
       "      <td>1.6L</td>\n",
       "      <td>114.398422</td>\n",
       "      <td>Manual</td>\n",
       "      <td>Diesel</td>\n",
       "      <td>1</td>\n",
       "      <td>14995.0</td>\n",
       "      <td>https://www.autotrader.co.uk/car-details/20221...</td>\n",
       "      <td>2499.166667</td>\n",
       "      <td>215</td>\n",
       "      <td>163</td>\n",
       "      <td>340</td>\n",
       "      <td>718</td>\n",
       "    </tr>\n",
       "    <tr>\n",
       "      <th>1</th>\n",
       "      <td>4</td>\n",
       "      <td>2016.0</td>\n",
       "      <td>Hatchback</td>\n",
       "      <td>42596.0</td>\n",
       "      <td>1.0L</td>\n",
       "      <td>93.688363</td>\n",
       "      <td>Manual</td>\n",
       "      <td>Petrol</td>\n",
       "      <td>3</td>\n",
       "      <td>10755.0</td>\n",
       "      <td>https://www.autotrader.co.uk/car-details/20221...</td>\n",
       "      <td>2688.750000</td>\n",
       "      <td>222</td>\n",
       "      <td>330</td>\n",
       "      <td>276</td>\n",
       "      <td>828</td>\n",
       "    </tr>\n",
       "    <tr>\n",
       "      <th>2</th>\n",
       "      <td>7</td>\n",
       "      <td>2015.0</td>\n",
       "      <td>Hatchback</td>\n",
       "      <td>42700.0</td>\n",
       "      <td>1.4L</td>\n",
       "      <td>123.274162</td>\n",
       "      <td>Manual</td>\n",
       "      <td>Petrol</td>\n",
       "      <td>2</td>\n",
       "      <td>10799.0</td>\n",
       "      <td>https://www.autotrader.co.uk/car-details/20221...</td>\n",
       "      <td>3599.666667</td>\n",
       "      <td>221</td>\n",
       "      <td>327</td>\n",
       "      <td>94</td>\n",
       "      <td>642</td>\n",
       "    </tr>\n",
       "    <tr>\n",
       "      <th>3</th>\n",
       "      <td>11</td>\n",
       "      <td>2014.0</td>\n",
       "      <td>Hatchback</td>\n",
       "      <td>86000.0</td>\n",
       "      <td>1.6L</td>\n",
       "      <td>103.550296</td>\n",
       "      <td>Manual</td>\n",
       "      <td>Diesel</td>\n",
       "      <td>3</td>\n",
       "      <td>7490.0</td>\n",
       "      <td>https://www.autotrader.co.uk/car-details/20221...</td>\n",
       "      <td>3745.000000</td>\n",
       "      <td>41</td>\n",
       "      <td>449</td>\n",
       "      <td>83</td>\n",
       "      <td>573</td>\n",
       "    </tr>\n",
       "    <tr>\n",
       "      <th>4</th>\n",
       "      <td>12</td>\n",
       "      <td>2014.0</td>\n",
       "      <td>Hatchback</td>\n",
       "      <td>104310.0</td>\n",
       "      <td>1.6L</td>\n",
       "      <td>103.550296</td>\n",
       "      <td>Manual</td>\n",
       "      <td>Diesel</td>\n",
       "      <td>3</td>\n",
       "      <td>7400.0</td>\n",
       "      <td>https://www.autotrader.co.uk/car-details/20220...</td>\n",
       "      <td>3700.000000</td>\n",
       "      <td>12</td>\n",
       "      <td>452</td>\n",
       "      <td>85</td>\n",
       "      <td>549</td>\n",
       "    </tr>\n",
       "  </tbody>\n",
       "</table>\n",
       "</div>"
      ],
      "text/plain": [
       "   index    Year       Type  Mileage(miles) Engine          PS Transmission  \\\n",
       "0      0  2018.0  Hatchback         44000.0   1.6L  114.398422       Manual   \n",
       "1      4  2016.0  Hatchback         42596.0   1.0L   93.688363       Manual   \n",
       "2      7  2015.0  Hatchback         42700.0   1.4L  123.274162       Manual   \n",
       "3     11  2014.0  Hatchback         86000.0   1.6L  103.550296       Manual   \n",
       "4     12  2014.0  Hatchback        104310.0   1.6L  103.550296       Manual   \n",
       "\n",
       "     Fuel  Number_of_Owners  Price(£)  \\\n",
       "0  Diesel                 1   14995.0   \n",
       "1  Petrol                 3   10755.0   \n",
       "2  Petrol                 2   10799.0   \n",
       "3  Diesel                 3    7490.0   \n",
       "4  Diesel                 3    7400.0   \n",
       "\n",
       "                                                href          PPY  \\\n",
       "0  https://www.autotrader.co.uk/car-details/20221...  2499.166667   \n",
       "1  https://www.autotrader.co.uk/car-details/20221...  2688.750000   \n",
       "2  https://www.autotrader.co.uk/car-details/20221...  3599.666667   \n",
       "3  https://www.autotrader.co.uk/car-details/20221...  3745.000000   \n",
       "4  https://www.autotrader.co.uk/car-details/20220...  3700.000000   \n",
       "\n",
       "   MileageRank  PriceRank  PPYRank  Score  \n",
       "0          215        163      340    718  \n",
       "1          222        330      276    828  \n",
       "2          221        327       94    642  \n",
       "3           41        449       83    573  \n",
       "4           12        452       85    549  "
      ]
     },
     "execution_count": 193,
     "metadata": {},
     "output_type": "execute_result"
    }
   ],
   "source": [
    "df.head()\n"
   ]
  },
  {
   "cell_type": "code",
   "execution_count": 194,
   "id": "ad221f28",
   "metadata": {},
   "outputs": [],
   "source": [
    "df =df.drop(columns=[\"index\",\"href\", \"MileageRank\",\"PriceRank\",\"PPYRank\",\"Score\" ,\"PPY\"])"
   ]
  },
  {
   "cell_type": "code",
   "execution_count": 195,
   "id": "2f7fc410",
   "metadata": {},
   "outputs": [
    {
     "data": {
      "application/vnd.microsoft.datawrangler.viewer.v0+json": {
       "columns": [
        {
         "name": "index",
         "rawType": "int64",
         "type": "integer"
        },
        {
         "name": "Year",
         "rawType": "float64",
         "type": "float"
        },
        {
         "name": "Type",
         "rawType": "object",
         "type": "string"
        },
        {
         "name": "Mileage(miles)",
         "rawType": "float64",
         "type": "float"
        },
        {
         "name": "Engine",
         "rawType": "object",
         "type": "string"
        },
        {
         "name": "PS",
         "rawType": "float64",
         "type": "float"
        },
        {
         "name": "Transmission",
         "rawType": "object",
         "type": "string"
        },
        {
         "name": "Fuel",
         "rawType": "object",
         "type": "string"
        },
        {
         "name": "Number_of_Owners",
         "rawType": "int64",
         "type": "integer"
        },
        {
         "name": "Price(£)",
         "rawType": "float64",
         "type": "float"
        }
       ],
       "conversionMethod": "pd.DataFrame",
       "ref": "64e0f4df-b9fd-4ed3-b6c5-2c179a9f2336",
       "rows": [
        [
         "0",
         "2018.0",
         "Hatchback",
         "44000.0",
         "1.6L",
         "114.39842209072978",
         "Manual",
         "Diesel",
         "1",
         "14995.0"
        ],
        [
         "1",
         "2016.0",
         "Hatchback",
         "42596.0",
         "1.0L",
         "93.68836291913216",
         "Manual",
         "Petrol",
         "3",
         "10755.0"
        ],
        [
         "2",
         "2015.0",
         "Hatchback",
         "42700.0",
         "1.4L",
         "123.2741617357002",
         "Manual",
         "Petrol",
         "2",
         "10799.0"
        ]
       ],
       "shape": {
        "columns": 9,
        "rows": 3
       }
      },
      "text/html": [
       "<div>\n",
       "<style scoped>\n",
       "    .dataframe tbody tr th:only-of-type {\n",
       "        vertical-align: middle;\n",
       "    }\n",
       "\n",
       "    .dataframe tbody tr th {\n",
       "        vertical-align: top;\n",
       "    }\n",
       "\n",
       "    .dataframe thead th {\n",
       "        text-align: right;\n",
       "    }\n",
       "</style>\n",
       "<table border=\"1\" class=\"dataframe\">\n",
       "  <thead>\n",
       "    <tr style=\"text-align: right;\">\n",
       "      <th></th>\n",
       "      <th>Year</th>\n",
       "      <th>Type</th>\n",
       "      <th>Mileage(miles)</th>\n",
       "      <th>Engine</th>\n",
       "      <th>PS</th>\n",
       "      <th>Transmission</th>\n",
       "      <th>Fuel</th>\n",
       "      <th>Number_of_Owners</th>\n",
       "      <th>Price(£)</th>\n",
       "    </tr>\n",
       "  </thead>\n",
       "  <tbody>\n",
       "    <tr>\n",
       "      <th>0</th>\n",
       "      <td>2018.0</td>\n",
       "      <td>Hatchback</td>\n",
       "      <td>44000.0</td>\n",
       "      <td>1.6L</td>\n",
       "      <td>114.398422</td>\n",
       "      <td>Manual</td>\n",
       "      <td>Diesel</td>\n",
       "      <td>1</td>\n",
       "      <td>14995.0</td>\n",
       "    </tr>\n",
       "    <tr>\n",
       "      <th>1</th>\n",
       "      <td>2016.0</td>\n",
       "      <td>Hatchback</td>\n",
       "      <td>42596.0</td>\n",
       "      <td>1.0L</td>\n",
       "      <td>93.688363</td>\n",
       "      <td>Manual</td>\n",
       "      <td>Petrol</td>\n",
       "      <td>3</td>\n",
       "      <td>10755.0</td>\n",
       "    </tr>\n",
       "    <tr>\n",
       "      <th>2</th>\n",
       "      <td>2015.0</td>\n",
       "      <td>Hatchback</td>\n",
       "      <td>42700.0</td>\n",
       "      <td>1.4L</td>\n",
       "      <td>123.274162</td>\n",
       "      <td>Manual</td>\n",
       "      <td>Petrol</td>\n",
       "      <td>2</td>\n",
       "      <td>10799.0</td>\n",
       "    </tr>\n",
       "  </tbody>\n",
       "</table>\n",
       "</div>"
      ],
      "text/plain": [
       "     Year       Type  Mileage(miles) Engine          PS Transmission    Fuel  \\\n",
       "0  2018.0  Hatchback         44000.0   1.6L  114.398422       Manual  Diesel   \n",
       "1  2016.0  Hatchback         42596.0   1.0L   93.688363       Manual  Petrol   \n",
       "2  2015.0  Hatchback         42700.0   1.4L  123.274162       Manual  Petrol   \n",
       "\n",
       "   Number_of_Owners  Price(£)  \n",
       "0                 1   14995.0  \n",
       "1                 3   10755.0  \n",
       "2                 2   10799.0  "
      ]
     },
     "execution_count": 195,
     "metadata": {},
     "output_type": "execute_result"
    }
   ],
   "source": [
    "df.head(3)"
   ]
  },
  {
   "cell_type": "code",
   "execution_count": 196,
   "id": "bfabce85",
   "metadata": {},
   "outputs": [],
   "source": [
    "# y=ax+b"
   ]
  },
  {
   "cell_type": "code",
   "execution_count": 197,
   "id": "51cd6100",
   "metadata": {},
   "outputs": [
    {
     "name": "stdout",
     "output_type": "stream",
     "text": [
      "<class 'pandas.core.frame.DataFrame'>\n",
      "RangeIndex: 471 entries, 0 to 470\n",
      "Data columns (total 9 columns):\n",
      " #   Column            Non-Null Count  Dtype  \n",
      "---  ------            --------------  -----  \n",
      " 0   Year              471 non-null    float64\n",
      " 1   Type              471 non-null    object \n",
      " 2   Mileage(miles)    471 non-null    float64\n",
      " 3   Engine            471 non-null    object \n",
      " 4   PS                471 non-null    float64\n",
      " 5   Transmission      471 non-null    object \n",
      " 6   Fuel              471 non-null    object \n",
      " 7   Number_of_Owners  471 non-null    int64  \n",
      " 8   Price(£)          471 non-null    float64\n",
      "dtypes: float64(4), int64(1), object(4)\n",
      "memory usage: 33.2+ KB\n"
     ]
    }
   ],
   "source": [
    "df.info()"
   ]
  },
  {
   "cell_type": "code",
   "execution_count": 198,
   "id": "814e8fec",
   "metadata": {},
   "outputs": [
    {
     "data": {
      "application/vnd.microsoft.datawrangler.viewer.v0+json": {
       "columns": [
        {
         "name": "index",
         "rawType": "int64",
         "type": "integer"
        },
        {
         "name": "Year",
         "rawType": "float64",
         "type": "float"
        },
        {
         "name": "Type",
         "rawType": "object",
         "type": "string"
        },
        {
         "name": "Mileage(miles)",
         "rawType": "float64",
         "type": "float"
        },
        {
         "name": "Engine",
         "rawType": "object",
         "type": "string"
        },
        {
         "name": "PS",
         "rawType": "float64",
         "type": "float"
        },
        {
         "name": "Transmission",
         "rawType": "object",
         "type": "string"
        },
        {
         "name": "Fuel",
         "rawType": "object",
         "type": "string"
        },
        {
         "name": "Number_of_Owners",
         "rawType": "int64",
         "type": "integer"
        },
        {
         "name": "Price(£)",
         "rawType": "float64",
         "type": "float"
        }
       ],
       "conversionMethod": "pd.DataFrame",
       "ref": "c20c5b12-ebed-4170-b235-afbce333459c",
       "rows": [
        [
         "0",
         "2018.0",
         "Hatchback",
         "44000.0",
         "1.6L",
         "114.39842209072978",
         "Manual",
         "Diesel",
         "1",
         "14995.0"
        ],
        [
         "1",
         "2016.0",
         "Hatchback",
         "42596.0",
         "1.0L",
         "93.68836291913216",
         "Manual",
         "Petrol",
         "3",
         "10755.0"
        ],
        [
         "2",
         "2015.0",
         "Hatchback",
         "42700.0",
         "1.4L",
         "123.2741617357002",
         "Manual",
         "Petrol",
         "2",
         "10799.0"
        ]
       ],
       "shape": {
        "columns": 9,
        "rows": 3
       }
      },
      "text/html": [
       "<div>\n",
       "<style scoped>\n",
       "    .dataframe tbody tr th:only-of-type {\n",
       "        vertical-align: middle;\n",
       "    }\n",
       "\n",
       "    .dataframe tbody tr th {\n",
       "        vertical-align: top;\n",
       "    }\n",
       "\n",
       "    .dataframe thead th {\n",
       "        text-align: right;\n",
       "    }\n",
       "</style>\n",
       "<table border=\"1\" class=\"dataframe\">\n",
       "  <thead>\n",
       "    <tr style=\"text-align: right;\">\n",
       "      <th></th>\n",
       "      <th>Year</th>\n",
       "      <th>Type</th>\n",
       "      <th>Mileage(miles)</th>\n",
       "      <th>Engine</th>\n",
       "      <th>PS</th>\n",
       "      <th>Transmission</th>\n",
       "      <th>Fuel</th>\n",
       "      <th>Number_of_Owners</th>\n",
       "      <th>Price(£)</th>\n",
       "    </tr>\n",
       "  </thead>\n",
       "  <tbody>\n",
       "    <tr>\n",
       "      <th>0</th>\n",
       "      <td>2018.0</td>\n",
       "      <td>Hatchback</td>\n",
       "      <td>44000.0</td>\n",
       "      <td>1.6L</td>\n",
       "      <td>114.398422</td>\n",
       "      <td>Manual</td>\n",
       "      <td>Diesel</td>\n",
       "      <td>1</td>\n",
       "      <td>14995.0</td>\n",
       "    </tr>\n",
       "    <tr>\n",
       "      <th>1</th>\n",
       "      <td>2016.0</td>\n",
       "      <td>Hatchback</td>\n",
       "      <td>42596.0</td>\n",
       "      <td>1.0L</td>\n",
       "      <td>93.688363</td>\n",
       "      <td>Manual</td>\n",
       "      <td>Petrol</td>\n",
       "      <td>3</td>\n",
       "      <td>10755.0</td>\n",
       "    </tr>\n",
       "    <tr>\n",
       "      <th>2</th>\n",
       "      <td>2015.0</td>\n",
       "      <td>Hatchback</td>\n",
       "      <td>42700.0</td>\n",
       "      <td>1.4L</td>\n",
       "      <td>123.274162</td>\n",
       "      <td>Manual</td>\n",
       "      <td>Petrol</td>\n",
       "      <td>2</td>\n",
       "      <td>10799.0</td>\n",
       "    </tr>\n",
       "  </tbody>\n",
       "</table>\n",
       "</div>"
      ],
      "text/plain": [
       "     Year       Type  Mileage(miles) Engine          PS Transmission    Fuel  \\\n",
       "0  2018.0  Hatchback         44000.0   1.6L  114.398422       Manual  Diesel   \n",
       "1  2016.0  Hatchback         42596.0   1.0L   93.688363       Manual  Petrol   \n",
       "2  2015.0  Hatchback         42700.0   1.4L  123.274162       Manual  Petrol   \n",
       "\n",
       "   Number_of_Owners  Price(£)  \n",
       "0                 1   14995.0  \n",
       "1                 3   10755.0  \n",
       "2                 2   10799.0  "
      ]
     },
     "execution_count": 198,
     "metadata": {},
     "output_type": "execute_result"
    }
   ],
   "source": [
    "df.head(3)\n"
   ]
  },
  {
   "cell_type": "code",
   "execution_count": 199,
   "id": "9a7b678a",
   "metadata": {},
   "outputs": [],
   "source": [
    "df.columns=[\"yil\",\"kasa\", \"mil\",\"motor\",\"ps\",\"vites\",\"yakit\",\"sahip\",\"fiyat\"]"
   ]
  },
  {
   "cell_type": "code",
   "execution_count": 200,
   "id": "1bee5e9f",
   "metadata": {},
   "outputs": [
    {
     "data": {
      "application/vnd.microsoft.datawrangler.viewer.v0+json": {
       "columns": [
        {
         "name": "index",
         "rawType": "int64",
         "type": "integer"
        },
        {
         "name": "yil",
         "rawType": "float64",
         "type": "float"
        },
        {
         "name": "kasa",
         "rawType": "object",
         "type": "string"
        },
        {
         "name": "mil",
         "rawType": "float64",
         "type": "float"
        },
        {
         "name": "motor",
         "rawType": "object",
         "type": "string"
        },
        {
         "name": "ps",
         "rawType": "float64",
         "type": "float"
        },
        {
         "name": "vites",
         "rawType": "object",
         "type": "string"
        },
        {
         "name": "yakit",
         "rawType": "object",
         "type": "string"
        },
        {
         "name": "sahip",
         "rawType": "int64",
         "type": "integer"
        },
        {
         "name": "fiyat",
         "rawType": "float64",
         "type": "float"
        }
       ],
       "conversionMethod": "pd.DataFrame",
       "ref": "ca54e084-7520-4054-b55a-08f4fd8b5268",
       "rows": [
        [
         "0",
         "2018.0",
         "Hatchback",
         "44000.0",
         "1.6L",
         "114.39842209072978",
         "Manual",
         "Diesel",
         "1",
         "14995.0"
        ],
        [
         "1",
         "2016.0",
         "Hatchback",
         "42596.0",
         "1.0L",
         "93.68836291913216",
         "Manual",
         "Petrol",
         "3",
         "10755.0"
        ],
        [
         "2",
         "2015.0",
         "Hatchback",
         "42700.0",
         "1.4L",
         "123.2741617357002",
         "Manual",
         "Petrol",
         "2",
         "10799.0"
        ]
       ],
       "shape": {
        "columns": 9,
        "rows": 3
       }
      },
      "text/html": [
       "<div>\n",
       "<style scoped>\n",
       "    .dataframe tbody tr th:only-of-type {\n",
       "        vertical-align: middle;\n",
       "    }\n",
       "\n",
       "    .dataframe tbody tr th {\n",
       "        vertical-align: top;\n",
       "    }\n",
       "\n",
       "    .dataframe thead th {\n",
       "        text-align: right;\n",
       "    }\n",
       "</style>\n",
       "<table border=\"1\" class=\"dataframe\">\n",
       "  <thead>\n",
       "    <tr style=\"text-align: right;\">\n",
       "      <th></th>\n",
       "      <th>yil</th>\n",
       "      <th>kasa</th>\n",
       "      <th>mil</th>\n",
       "      <th>motor</th>\n",
       "      <th>ps</th>\n",
       "      <th>vites</th>\n",
       "      <th>yakit</th>\n",
       "      <th>sahip</th>\n",
       "      <th>fiyat</th>\n",
       "    </tr>\n",
       "  </thead>\n",
       "  <tbody>\n",
       "    <tr>\n",
       "      <th>0</th>\n",
       "      <td>2018.0</td>\n",
       "      <td>Hatchback</td>\n",
       "      <td>44000.0</td>\n",
       "      <td>1.6L</td>\n",
       "      <td>114.398422</td>\n",
       "      <td>Manual</td>\n",
       "      <td>Diesel</td>\n",
       "      <td>1</td>\n",
       "      <td>14995.0</td>\n",
       "    </tr>\n",
       "    <tr>\n",
       "      <th>1</th>\n",
       "      <td>2016.0</td>\n",
       "      <td>Hatchback</td>\n",
       "      <td>42596.0</td>\n",
       "      <td>1.0L</td>\n",
       "      <td>93.688363</td>\n",
       "      <td>Manual</td>\n",
       "      <td>Petrol</td>\n",
       "      <td>3</td>\n",
       "      <td>10755.0</td>\n",
       "    </tr>\n",
       "    <tr>\n",
       "      <th>2</th>\n",
       "      <td>2015.0</td>\n",
       "      <td>Hatchback</td>\n",
       "      <td>42700.0</td>\n",
       "      <td>1.4L</td>\n",
       "      <td>123.274162</td>\n",
       "      <td>Manual</td>\n",
       "      <td>Petrol</td>\n",
       "      <td>2</td>\n",
       "      <td>10799.0</td>\n",
       "    </tr>\n",
       "  </tbody>\n",
       "</table>\n",
       "</div>"
      ],
      "text/plain": [
       "      yil       kasa      mil motor          ps   vites   yakit  sahip  \\\n",
       "0  2018.0  Hatchback  44000.0  1.6L  114.398422  Manual  Diesel      1   \n",
       "1  2016.0  Hatchback  42596.0  1.0L   93.688363  Manual  Petrol      3   \n",
       "2  2015.0  Hatchback  42700.0  1.4L  123.274162  Manual  Petrol      2   \n",
       "\n",
       "     fiyat  \n",
       "0  14995.0  \n",
       "1  10755.0  \n",
       "2  10799.0  "
      ]
     },
     "execution_count": 200,
     "metadata": {},
     "output_type": "execute_result"
    }
   ],
   "source": [
    "df.head(3)"
   ]
  },
  {
   "cell_type": "code",
   "execution_count": 201,
   "id": "51360b1f",
   "metadata": {},
   "outputs": [],
   "source": [
    "df[\"motor\"]=df[\"motor\"].str.replace(\"L\",\"\")"
   ]
  },
  {
   "cell_type": "code",
   "execution_count": 202,
   "id": "e36e4bfe",
   "metadata": {},
   "outputs": [],
   "source": [
    "df[\"motor\"]=pd.to_numeric(df[\"motor\"])"
   ]
  },
  {
   "cell_type": "code",
   "execution_count": 203,
   "id": "91212762",
   "metadata": {},
   "outputs": [
    {
     "data": {
      "application/vnd.microsoft.datawrangler.viewer.v0+json": {
       "columns": [
        {
         "name": "index",
         "rawType": "int64",
         "type": "integer"
        },
        {
         "name": "yil",
         "rawType": "float64",
         "type": "float"
        },
        {
         "name": "kasa",
         "rawType": "object",
         "type": "string"
        },
        {
         "name": "mil",
         "rawType": "float64",
         "type": "float"
        },
        {
         "name": "motor",
         "rawType": "float64",
         "type": "float"
        },
        {
         "name": "ps",
         "rawType": "float64",
         "type": "float"
        },
        {
         "name": "vites",
         "rawType": "object",
         "type": "string"
        },
        {
         "name": "yakit",
         "rawType": "object",
         "type": "string"
        },
        {
         "name": "sahip",
         "rawType": "int64",
         "type": "integer"
        },
        {
         "name": "fiyat",
         "rawType": "float64",
         "type": "float"
        }
       ],
       "conversionMethod": "pd.DataFrame",
       "ref": "35143a71-6187-47d0-ae66-974325e27638",
       "rows": [
        [
         "0",
         "2018.0",
         "Hatchback",
         "44000.0",
         "1.6",
         "114.39842209072978",
         "Manual",
         "Diesel",
         "1",
         "14995.0"
        ],
        [
         "1",
         "2016.0",
         "Hatchback",
         "42596.0",
         "1.0",
         "93.68836291913216",
         "Manual",
         "Petrol",
         "3",
         "10755.0"
        ],
        [
         "2",
         "2015.0",
         "Hatchback",
         "42700.0",
         "1.4",
         "123.2741617357002",
         "Manual",
         "Petrol",
         "2",
         "10799.0"
        ]
       ],
       "shape": {
        "columns": 9,
        "rows": 3
       }
      },
      "text/html": [
       "<div>\n",
       "<style scoped>\n",
       "    .dataframe tbody tr th:only-of-type {\n",
       "        vertical-align: middle;\n",
       "    }\n",
       "\n",
       "    .dataframe tbody tr th {\n",
       "        vertical-align: top;\n",
       "    }\n",
       "\n",
       "    .dataframe thead th {\n",
       "        text-align: right;\n",
       "    }\n",
       "</style>\n",
       "<table border=\"1\" class=\"dataframe\">\n",
       "  <thead>\n",
       "    <tr style=\"text-align: right;\">\n",
       "      <th></th>\n",
       "      <th>yil</th>\n",
       "      <th>kasa</th>\n",
       "      <th>mil</th>\n",
       "      <th>motor</th>\n",
       "      <th>ps</th>\n",
       "      <th>vites</th>\n",
       "      <th>yakit</th>\n",
       "      <th>sahip</th>\n",
       "      <th>fiyat</th>\n",
       "    </tr>\n",
       "  </thead>\n",
       "  <tbody>\n",
       "    <tr>\n",
       "      <th>0</th>\n",
       "      <td>2018.0</td>\n",
       "      <td>Hatchback</td>\n",
       "      <td>44000.0</td>\n",
       "      <td>1.6</td>\n",
       "      <td>114.398422</td>\n",
       "      <td>Manual</td>\n",
       "      <td>Diesel</td>\n",
       "      <td>1</td>\n",
       "      <td>14995.0</td>\n",
       "    </tr>\n",
       "    <tr>\n",
       "      <th>1</th>\n",
       "      <td>2016.0</td>\n",
       "      <td>Hatchback</td>\n",
       "      <td>42596.0</td>\n",
       "      <td>1.0</td>\n",
       "      <td>93.688363</td>\n",
       "      <td>Manual</td>\n",
       "      <td>Petrol</td>\n",
       "      <td>3</td>\n",
       "      <td>10755.0</td>\n",
       "    </tr>\n",
       "    <tr>\n",
       "      <th>2</th>\n",
       "      <td>2015.0</td>\n",
       "      <td>Hatchback</td>\n",
       "      <td>42700.0</td>\n",
       "      <td>1.4</td>\n",
       "      <td>123.274162</td>\n",
       "      <td>Manual</td>\n",
       "      <td>Petrol</td>\n",
       "      <td>2</td>\n",
       "      <td>10799.0</td>\n",
       "    </tr>\n",
       "  </tbody>\n",
       "</table>\n",
       "</div>"
      ],
      "text/plain": [
       "      yil       kasa      mil  motor          ps   vites   yakit  sahip  \\\n",
       "0  2018.0  Hatchback  44000.0    1.6  114.398422  Manual  Diesel      1   \n",
       "1  2016.0  Hatchback  42596.0    1.0   93.688363  Manual  Petrol      3   \n",
       "2  2015.0  Hatchback  42700.0    1.4  123.274162  Manual  Petrol      2   \n",
       "\n",
       "     fiyat  \n",
       "0  14995.0  \n",
       "1  10755.0  \n",
       "2  10799.0  "
      ]
     },
     "execution_count": 203,
     "metadata": {},
     "output_type": "execute_result"
    }
   ],
   "source": [
    "df.head(3)"
   ]
  },
  {
   "cell_type": "code",
   "execution_count": 204,
   "id": "dca566e2",
   "metadata": {},
   "outputs": [],
   "source": [
    "df=pd.get_dummies(df, columns=[\"kasa\",\"vites\",\"yakit\"], drop_first=True).astype(int)\n"
   ]
  },
  {
   "cell_type": "code",
   "execution_count": 205,
   "id": "13c4795f",
   "metadata": {},
   "outputs": [
    {
     "data": {
      "application/vnd.microsoft.datawrangler.viewer.v0+json": {
       "columns": [
        {
         "name": "index",
         "rawType": "int64",
         "type": "integer"
        },
        {
         "name": "yil",
         "rawType": "int64",
         "type": "integer"
        },
        {
         "name": "mil",
         "rawType": "int64",
         "type": "integer"
        },
        {
         "name": "motor",
         "rawType": "int64",
         "type": "integer"
        },
        {
         "name": "ps",
         "rawType": "int64",
         "type": "integer"
        },
        {
         "name": "sahip",
         "rawType": "int64",
         "type": "integer"
        },
        {
         "name": "fiyat",
         "rawType": "int64",
         "type": "integer"
        },
        {
         "name": "vites_Manual",
         "rawType": "int64",
         "type": "integer"
        },
        {
         "name": "yakit_Petrol",
         "rawType": "int64",
         "type": "integer"
        }
       ],
       "conversionMethod": "pd.DataFrame",
       "ref": "941f74c0-0c0e-4bbb-8325-43152747332d",
       "rows": [
        [
         "0",
         "2018",
         "44000",
         "1",
         "114",
         "1",
         "14995",
         "1",
         "0"
        ],
        [
         "1",
         "2016",
         "42596",
         "1",
         "93",
         "3",
         "10755",
         "1",
         "1"
        ],
        [
         "2",
         "2015",
         "42700",
         "1",
         "123",
         "2",
         "10799",
         "1",
         "1"
        ]
       ],
       "shape": {
        "columns": 8,
        "rows": 3
       }
      },
      "text/html": [
       "<div>\n",
       "<style scoped>\n",
       "    .dataframe tbody tr th:only-of-type {\n",
       "        vertical-align: middle;\n",
       "    }\n",
       "\n",
       "    .dataframe tbody tr th {\n",
       "        vertical-align: top;\n",
       "    }\n",
       "\n",
       "    .dataframe thead th {\n",
       "        text-align: right;\n",
       "    }\n",
       "</style>\n",
       "<table border=\"1\" class=\"dataframe\">\n",
       "  <thead>\n",
       "    <tr style=\"text-align: right;\">\n",
       "      <th></th>\n",
       "      <th>yil</th>\n",
       "      <th>mil</th>\n",
       "      <th>motor</th>\n",
       "      <th>ps</th>\n",
       "      <th>sahip</th>\n",
       "      <th>fiyat</th>\n",
       "      <th>vites_Manual</th>\n",
       "      <th>yakit_Petrol</th>\n",
       "    </tr>\n",
       "  </thead>\n",
       "  <tbody>\n",
       "    <tr>\n",
       "      <th>0</th>\n",
       "      <td>2018</td>\n",
       "      <td>44000</td>\n",
       "      <td>1</td>\n",
       "      <td>114</td>\n",
       "      <td>1</td>\n",
       "      <td>14995</td>\n",
       "      <td>1</td>\n",
       "      <td>0</td>\n",
       "    </tr>\n",
       "    <tr>\n",
       "      <th>1</th>\n",
       "      <td>2016</td>\n",
       "      <td>42596</td>\n",
       "      <td>1</td>\n",
       "      <td>93</td>\n",
       "      <td>3</td>\n",
       "      <td>10755</td>\n",
       "      <td>1</td>\n",
       "      <td>1</td>\n",
       "    </tr>\n",
       "    <tr>\n",
       "      <th>2</th>\n",
       "      <td>2015</td>\n",
       "      <td>42700</td>\n",
       "      <td>1</td>\n",
       "      <td>123</td>\n",
       "      <td>2</td>\n",
       "      <td>10799</td>\n",
       "      <td>1</td>\n",
       "      <td>1</td>\n",
       "    </tr>\n",
       "  </tbody>\n",
       "</table>\n",
       "</div>"
      ],
      "text/plain": [
       "    yil    mil  motor   ps  sahip  fiyat  vites_Manual  yakit_Petrol\n",
       "0  2018  44000      1  114      1  14995             1             0\n",
       "1  2016  42596      1   93      3  10755             1             1\n",
       "2  2015  42700      1  123      2  10799             1             1"
      ]
     },
     "execution_count": 205,
     "metadata": {},
     "output_type": "execute_result"
    }
   ],
   "source": [
    "df.head(3)"
   ]
  },
  {
   "cell_type": "code",
   "execution_count": 206,
   "id": "a8582184",
   "metadata": {},
   "outputs": [],
   "source": [
    "y=df[\"fiyat\"]\n",
    "x=df.drop(columns=[\"fiyat\"])"
   ]
  },
  {
   "cell_type": "markdown",
   "id": "1add01e5",
   "metadata": {},
   "source": []
  },
  {
   "cell_type": "code",
   "execution_count": 219,
   "id": "878f10d5",
   "metadata": {},
   "outputs": [],
   "source": [
    "x_train, x_test, y_train, y_test = train_test_split(x,y, train_size=0.8,random_state=12)"
   ]
  },
  {
   "cell_type": "code",
   "execution_count": null,
   "id": "5cd46a86",
   "metadata": {},
   "outputs": [
    {
     "data": {
      "text/plain": [
       "0.9116053144458388"
      ]
     },
     "execution_count": 213,
     "metadata": {},
     "output_type": "execute_result"
    }
   ],
   "source": [
    "# lm=LinearRegression()\n",
    "# model=lm.fit(x,y)"
   ]
  },
  {
   "cell_type": "code",
   "execution_count": 220,
   "id": "2f434f42",
   "metadata": {},
   "outputs": [
    {
     "data": {
      "text/plain": [
       "0.9152625025579191"
      ]
     },
     "execution_count": 220,
     "metadata": {},
     "output_type": "execute_result"
    }
   ],
   "source": [
    "lm=LinearRegression()\n",
    "model=lm.fit(x_train,y_train)\n",
    "model.score(x_test,y_test)"
   ]
  },
  {
   "cell_type": "code",
   "execution_count": 209,
   "id": "f85b875a",
   "metadata": {},
   "outputs": [
    {
     "data": {
      "text/plain": [
       "0.9074454714893688"
      ]
     },
     "execution_count": 209,
     "metadata": {},
     "output_type": "execute_result"
    }
   ],
   "source": [
    "# model.score(x,y)"
   ]
  },
  {
   "cell_type": "code",
   "execution_count": null,
   "id": "93398a03",
   "metadata": {},
   "outputs": [],
   "source": []
  }
 ],
 "metadata": {
  "kernelspec": {
   "display_name": "Python 3",
   "language": "python",
   "name": "python3"
  },
  "language_info": {
   "codemirror_mode": {
    "name": "ipython",
    "version": 3
   },
   "file_extension": ".py",
   "mimetype": "text/x-python",
   "name": "python",
   "nbconvert_exporter": "python",
   "pygments_lexer": "ipython3",
   "version": "3.12.9"
  }
 },
 "nbformat": 4,
 "nbformat_minor": 5
}
