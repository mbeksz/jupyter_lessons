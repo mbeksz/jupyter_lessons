{
 "cells": [
  {
   "cell_type": "code",
   "execution_count": 52,
   "id": "85b714d5-fe5a-474d-ab4d-51aead656e2a",
   "metadata": {},
   "outputs": [],
   "source": [
    "import pandas as pd\n",
    "import numpy as np\n",
    "from sklearn.linear_model import LinearRegression\n",
    "from sklearn.metrics import mean_squared_error,mean_absolute_error,mean_absolute_percentage_error"
   ]
  },
  {
   "cell_type": "code",
   "execution_count": 27,
   "id": "98ddcb29",
   "metadata": {},
   "outputs": [
    {
     "data": {
      "application/vnd.microsoft.datawrangler.viewer.v0+json": {
       "columns": [
        {
         "name": "index",
         "rawType": "int64",
         "type": "integer"
        },
        {
         "name": "age",
         "rawType": "int64",
         "type": "integer"
        },
        {
         "name": "sex",
         "rawType": "object",
         "type": "string"
        },
        {
         "name": "bmi",
         "rawType": "float64",
         "type": "float"
        },
        {
         "name": "children",
         "rawType": "int64",
         "type": "integer"
        },
        {
         "name": "smoker",
         "rawType": "object",
         "type": "string"
        },
        {
         "name": "region",
         "rawType": "object",
         "type": "string"
        },
        {
         "name": "charges",
         "rawType": "float64",
         "type": "float"
        }
       ],
       "conversionMethod": "pd.DataFrame",
       "ref": "090391be-f2c7-411a-aa1a-58d5d53b249e",
       "rows": [
        [
         "0",
         "19",
         "female",
         "27.9",
         "0",
         "yes",
         "southwest",
         "16884.924"
        ],
        [
         "1",
         "18",
         "male",
         "33.77",
         "1",
         "no",
         "southeast",
         "1725.5523"
        ],
        [
         "2",
         "28",
         "male",
         "33.0",
         "3",
         "no",
         "southeast",
         "4449.462"
        ],
        [
         "3",
         "33",
         "male",
         "22.705",
         "0",
         "no",
         "northwest",
         "21984.47061"
        ],
        [
         "4",
         "32",
         "male",
         "28.88",
         "0",
         "no",
         "northwest",
         "3866.8552"
        ]
       ],
       "shape": {
        "columns": 7,
        "rows": 5
       }
      },
      "text/html": [
       "<div>\n",
       "<style scoped>\n",
       "    .dataframe tbody tr th:only-of-type {\n",
       "        vertical-align: middle;\n",
       "    }\n",
       "\n",
       "    .dataframe tbody tr th {\n",
       "        vertical-align: top;\n",
       "    }\n",
       "\n",
       "    .dataframe thead th {\n",
       "        text-align: right;\n",
       "    }\n",
       "</style>\n",
       "<table border=\"1\" class=\"dataframe\">\n",
       "  <thead>\n",
       "    <tr style=\"text-align: right;\">\n",
       "      <th></th>\n",
       "      <th>age</th>\n",
       "      <th>sex</th>\n",
       "      <th>bmi</th>\n",
       "      <th>children</th>\n",
       "      <th>smoker</th>\n",
       "      <th>region</th>\n",
       "      <th>charges</th>\n",
       "    </tr>\n",
       "  </thead>\n",
       "  <tbody>\n",
       "    <tr>\n",
       "      <th>0</th>\n",
       "      <td>19</td>\n",
       "      <td>female</td>\n",
       "      <td>27.900</td>\n",
       "      <td>0</td>\n",
       "      <td>yes</td>\n",
       "      <td>southwest</td>\n",
       "      <td>16884.92400</td>\n",
       "    </tr>\n",
       "    <tr>\n",
       "      <th>1</th>\n",
       "      <td>18</td>\n",
       "      <td>male</td>\n",
       "      <td>33.770</td>\n",
       "      <td>1</td>\n",
       "      <td>no</td>\n",
       "      <td>southeast</td>\n",
       "      <td>1725.55230</td>\n",
       "    </tr>\n",
       "    <tr>\n",
       "      <th>2</th>\n",
       "      <td>28</td>\n",
       "      <td>male</td>\n",
       "      <td>33.000</td>\n",
       "      <td>3</td>\n",
       "      <td>no</td>\n",
       "      <td>southeast</td>\n",
       "      <td>4449.46200</td>\n",
       "    </tr>\n",
       "    <tr>\n",
       "      <th>3</th>\n",
       "      <td>33</td>\n",
       "      <td>male</td>\n",
       "      <td>22.705</td>\n",
       "      <td>0</td>\n",
       "      <td>no</td>\n",
       "      <td>northwest</td>\n",
       "      <td>21984.47061</td>\n",
       "    </tr>\n",
       "    <tr>\n",
       "      <th>4</th>\n",
       "      <td>32</td>\n",
       "      <td>male</td>\n",
       "      <td>28.880</td>\n",
       "      <td>0</td>\n",
       "      <td>no</td>\n",
       "      <td>northwest</td>\n",
       "      <td>3866.85520</td>\n",
       "    </tr>\n",
       "  </tbody>\n",
       "</table>\n",
       "</div>"
      ],
      "text/plain": [
       "   age     sex     bmi  children smoker     region      charges\n",
       "0   19  female  27.900         0    yes  southwest  16884.92400\n",
       "1   18    male  33.770         1     no  southeast   1725.55230\n",
       "2   28    male  33.000         3     no  southeast   4449.46200\n",
       "3   33    male  22.705         0     no  northwest  21984.47061\n",
       "4   32    male  28.880         0     no  northwest   3866.85520"
      ]
     },
     "execution_count": 27,
     "metadata": {},
     "output_type": "execute_result"
    }
   ],
   "source": [
    "df =pd.read_csv('insurance.csv')\n",
    "df.head()"
   ]
  },
  {
   "cell_type": "code",
   "execution_count": 28,
   "id": "c74fd28b",
   "metadata": {},
   "outputs": [],
   "source": [
    "df=pd.get_dummies(df, columns=[\"sex\",\"smoker\",\"region\"], drop_first=True).astype(int)"
   ]
  },
  {
   "cell_type": "code",
   "execution_count": 29,
   "id": "52197583",
   "metadata": {},
   "outputs": [
    {
     "data": {
      "application/vnd.microsoft.datawrangler.viewer.v0+json": {
       "columns": [
        {
         "name": "index",
         "rawType": "int64",
         "type": "integer"
        },
        {
         "name": "age",
         "rawType": "int64",
         "type": "integer"
        },
        {
         "name": "bmi",
         "rawType": "int64",
         "type": "integer"
        },
        {
         "name": "children",
         "rawType": "int64",
         "type": "integer"
        },
        {
         "name": "charges",
         "rawType": "int64",
         "type": "integer"
        },
        {
         "name": "sex_male",
         "rawType": "int64",
         "type": "integer"
        },
        {
         "name": "smoker_yes",
         "rawType": "int64",
         "type": "integer"
        },
        {
         "name": "region_northwest",
         "rawType": "int64",
         "type": "integer"
        },
        {
         "name": "region_southeast",
         "rawType": "int64",
         "type": "integer"
        },
        {
         "name": "region_southwest",
         "rawType": "int64",
         "type": "integer"
        }
       ],
       "conversionMethod": "pd.DataFrame",
       "ref": "610d0aed-34c3-407c-ab16-33fa840cbf6e",
       "rows": [
        [
         "0",
         "19",
         "27",
         "0",
         "16884",
         "0",
         "1",
         "0",
         "0",
         "1"
        ],
        [
         "1",
         "18",
         "33",
         "1",
         "1725",
         "1",
         "0",
         "0",
         "1",
         "0"
        ],
        [
         "2",
         "28",
         "33",
         "3",
         "4449",
         "1",
         "0",
         "0",
         "1",
         "0"
        ],
        [
         "3",
         "33",
         "22",
         "0",
         "21984",
         "1",
         "0",
         "1",
         "0",
         "0"
        ],
        [
         "4",
         "32",
         "28",
         "0",
         "3866",
         "1",
         "0",
         "1",
         "0",
         "0"
        ]
       ],
       "shape": {
        "columns": 9,
        "rows": 5
       }
      },
      "text/html": [
       "<div>\n",
       "<style scoped>\n",
       "    .dataframe tbody tr th:only-of-type {\n",
       "        vertical-align: middle;\n",
       "    }\n",
       "\n",
       "    .dataframe tbody tr th {\n",
       "        vertical-align: top;\n",
       "    }\n",
       "\n",
       "    .dataframe thead th {\n",
       "        text-align: right;\n",
       "    }\n",
       "</style>\n",
       "<table border=\"1\" class=\"dataframe\">\n",
       "  <thead>\n",
       "    <tr style=\"text-align: right;\">\n",
       "      <th></th>\n",
       "      <th>age</th>\n",
       "      <th>bmi</th>\n",
       "      <th>children</th>\n",
       "      <th>charges</th>\n",
       "      <th>sex_male</th>\n",
       "      <th>smoker_yes</th>\n",
       "      <th>region_northwest</th>\n",
       "      <th>region_southeast</th>\n",
       "      <th>region_southwest</th>\n",
       "    </tr>\n",
       "  </thead>\n",
       "  <tbody>\n",
       "    <tr>\n",
       "      <th>0</th>\n",
       "      <td>19</td>\n",
       "      <td>27</td>\n",
       "      <td>0</td>\n",
       "      <td>16884</td>\n",
       "      <td>0</td>\n",
       "      <td>1</td>\n",
       "      <td>0</td>\n",
       "      <td>0</td>\n",
       "      <td>1</td>\n",
       "    </tr>\n",
       "    <tr>\n",
       "      <th>1</th>\n",
       "      <td>18</td>\n",
       "      <td>33</td>\n",
       "      <td>1</td>\n",
       "      <td>1725</td>\n",
       "      <td>1</td>\n",
       "      <td>0</td>\n",
       "      <td>0</td>\n",
       "      <td>1</td>\n",
       "      <td>0</td>\n",
       "    </tr>\n",
       "    <tr>\n",
       "      <th>2</th>\n",
       "      <td>28</td>\n",
       "      <td>33</td>\n",
       "      <td>3</td>\n",
       "      <td>4449</td>\n",
       "      <td>1</td>\n",
       "      <td>0</td>\n",
       "      <td>0</td>\n",
       "      <td>1</td>\n",
       "      <td>0</td>\n",
       "    </tr>\n",
       "    <tr>\n",
       "      <th>3</th>\n",
       "      <td>33</td>\n",
       "      <td>22</td>\n",
       "      <td>0</td>\n",
       "      <td>21984</td>\n",
       "      <td>1</td>\n",
       "      <td>0</td>\n",
       "      <td>1</td>\n",
       "      <td>0</td>\n",
       "      <td>0</td>\n",
       "    </tr>\n",
       "    <tr>\n",
       "      <th>4</th>\n",
       "      <td>32</td>\n",
       "      <td>28</td>\n",
       "      <td>0</td>\n",
       "      <td>3866</td>\n",
       "      <td>1</td>\n",
       "      <td>0</td>\n",
       "      <td>1</td>\n",
       "      <td>0</td>\n",
       "      <td>0</td>\n",
       "    </tr>\n",
       "  </tbody>\n",
       "</table>\n",
       "</div>"
      ],
      "text/plain": [
       "   age  bmi  children  charges  sex_male  smoker_yes  region_northwest  \\\n",
       "0   19   27         0    16884         0           1                 0   \n",
       "1   18   33         1     1725         1           0                 0   \n",
       "2   28   33         3     4449         1           0                 0   \n",
       "3   33   22         0    21984         1           0                 1   \n",
       "4   32   28         0     3866         1           0                 1   \n",
       "\n",
       "   region_southeast  region_southwest  \n",
       "0                 0                 1  \n",
       "1                 1                 0  \n",
       "2                 1                 0  \n",
       "3                 0                 0  \n",
       "4                 0                 0  "
      ]
     },
     "execution_count": 29,
     "metadata": {},
     "output_type": "execute_result"
    }
   ],
   "source": [
    "df.head()"
   ]
  },
  {
   "cell_type": "code",
   "execution_count": 30,
   "id": "065bba73",
   "metadata": {},
   "outputs": [],
   "source": [
    "y=df['charges']\n",
    "X=df.drop(columns='charges')"
   ]
  },
  {
   "cell_type": "code",
   "execution_count": 31,
   "id": "f0ab70ee",
   "metadata": {},
   "outputs": [],
   "source": [
    "lm=LinearRegression()\n",
    "model=lm.fit(X,y)"
   ]
  },
  {
   "cell_type": "code",
   "execution_count": 32,
   "id": "9fc5840f",
   "metadata": {},
   "outputs": [
    {
     "data": {
      "text/plain": [
       "0.7508828216439195"
      ]
     },
     "execution_count": 32,
     "metadata": {},
     "output_type": "execute_result"
    }
   ],
   "source": [
    "model.score(X,y)"
   ]
  },
  {
   "cell_type": "code",
   "execution_count": 33,
   "id": "cd9290cc",
   "metadata": {},
   "outputs": [
    {
     "name": "stderr",
     "output_type": "stream",
     "text": [
      "C:\\Users\\LENOVO\\AppData\\Local\\Packages\\PythonSoftwareFoundation.Python.3.12_qbz5n2kfra8p0\\LocalCache\\local-packages\\Python312\\site-packages\\sklearn\\base.py:493: UserWarning: X does not have valid feature names, but LinearRegression was fitted with feature names\n",
      "  warnings.warn(\n"
     ]
    },
    {
     "data": {
      "text/plain": [
       "array([2265.67150606])"
      ]
     },
     "execution_count": 33,
     "metadata": {},
     "output_type": "execute_result"
    }
   ],
   "source": [
    "model.predict([[19,27,1,1,0,1,0,0]])"
   ]
  },
  {
   "cell_type": "code",
   "execution_count": 34,
   "id": "a5359c04",
   "metadata": {},
   "outputs": [],
   "source": [
    "df_hata=pd.DataFrame()"
   ]
  },
  {
   "cell_type": "code",
   "execution_count": 35,
   "id": "5777ea53",
   "metadata": {},
   "outputs": [],
   "source": [
    "df_hata['y']=y"
   ]
  },
  {
   "cell_type": "code",
   "execution_count": 36,
   "id": "1b5035f4",
   "metadata": {},
   "outputs": [
    {
     "data": {
      "application/vnd.microsoft.datawrangler.viewer.v0+json": {
       "columns": [
        {
         "name": "index",
         "rawType": "int64",
         "type": "integer"
        },
        {
         "name": "y",
         "rawType": "int64",
         "type": "integer"
        }
       ],
       "conversionMethod": "pd.DataFrame",
       "ref": "050a11a7-ed92-4951-8ab0-5334b6e52323",
       "rows": [
        [
         "0",
         "16884"
        ],
        [
         "1",
         "1725"
        ],
        [
         "2",
         "4449"
        ],
        [
         "3",
         "21984"
        ],
        [
         "4",
         "3866"
        ],
        [
         "5",
         "3756"
        ],
        [
         "6",
         "8240"
        ],
        [
         "7",
         "7281"
        ],
        [
         "8",
         "6406"
        ],
        [
         "9",
         "28923"
        ],
        [
         "10",
         "2721"
        ],
        [
         "11",
         "27808"
        ],
        [
         "12",
         "1826"
        ],
        [
         "13",
         "11090"
        ],
        [
         "14",
         "39611"
        ],
        [
         "15",
         "1837"
        ],
        [
         "16",
         "10797"
        ],
        [
         "17",
         "2395"
        ],
        [
         "18",
         "10602"
        ],
        [
         "19",
         "36837"
        ],
        [
         "20",
         "13228"
        ],
        [
         "21",
         "4149"
        ],
        [
         "22",
         "1137"
        ],
        [
         "23",
         "37701"
        ],
        [
         "24",
         "6203"
        ],
        [
         "25",
         "14001"
        ],
        [
         "26",
         "14451"
        ],
        [
         "27",
         "12268"
        ],
        [
         "28",
         "2775"
        ],
        [
         "29",
         "38711"
        ],
        [
         "30",
         "35585"
        ],
        [
         "31",
         "2198"
        ],
        [
         "32",
         "4687"
        ],
        [
         "33",
         "13770"
        ],
        [
         "34",
         "51194"
        ],
        [
         "35",
         "1625"
        ],
        [
         "36",
         "15612"
        ],
        [
         "37",
         "2302"
        ],
        [
         "38",
         "39774"
        ],
        [
         "39",
         "48173"
        ],
        [
         "40",
         "3046"
        ],
        [
         "41",
         "4949"
        ],
        [
         "42",
         "6272"
        ],
        [
         "43",
         "6313"
        ],
        [
         "44",
         "6079"
        ],
        [
         "45",
         "20630"
        ],
        [
         "46",
         "3393"
        ],
        [
         "47",
         "3556"
        ],
        [
         "48",
         "12629"
        ],
        [
         "49",
         "38709"
        ]
       ],
       "shape": {
        "columns": 1,
        "rows": 1338
       }
      },
      "text/html": [
       "<div>\n",
       "<style scoped>\n",
       "    .dataframe tbody tr th:only-of-type {\n",
       "        vertical-align: middle;\n",
       "    }\n",
       "\n",
       "    .dataframe tbody tr th {\n",
       "        vertical-align: top;\n",
       "    }\n",
       "\n",
       "    .dataframe thead th {\n",
       "        text-align: right;\n",
       "    }\n",
       "</style>\n",
       "<table border=\"1\" class=\"dataframe\">\n",
       "  <thead>\n",
       "    <tr style=\"text-align: right;\">\n",
       "      <th></th>\n",
       "      <th>y</th>\n",
       "    </tr>\n",
       "  </thead>\n",
       "  <tbody>\n",
       "    <tr>\n",
       "      <th>0</th>\n",
       "      <td>16884</td>\n",
       "    </tr>\n",
       "    <tr>\n",
       "      <th>1</th>\n",
       "      <td>1725</td>\n",
       "    </tr>\n",
       "    <tr>\n",
       "      <th>2</th>\n",
       "      <td>4449</td>\n",
       "    </tr>\n",
       "    <tr>\n",
       "      <th>3</th>\n",
       "      <td>21984</td>\n",
       "    </tr>\n",
       "    <tr>\n",
       "      <th>4</th>\n",
       "      <td>3866</td>\n",
       "    </tr>\n",
       "    <tr>\n",
       "      <th>...</th>\n",
       "      <td>...</td>\n",
       "    </tr>\n",
       "    <tr>\n",
       "      <th>1333</th>\n",
       "      <td>10600</td>\n",
       "    </tr>\n",
       "    <tr>\n",
       "      <th>1334</th>\n",
       "      <td>2205</td>\n",
       "    </tr>\n",
       "    <tr>\n",
       "      <th>1335</th>\n",
       "      <td>1629</td>\n",
       "    </tr>\n",
       "    <tr>\n",
       "      <th>1336</th>\n",
       "      <td>2007</td>\n",
       "    </tr>\n",
       "    <tr>\n",
       "      <th>1337</th>\n",
       "      <td>29141</td>\n",
       "    </tr>\n",
       "  </tbody>\n",
       "</table>\n",
       "<p>1338 rows × 1 columns</p>\n",
       "</div>"
      ],
      "text/plain": [
       "          y\n",
       "0     16884\n",
       "1      1725\n",
       "2      4449\n",
       "3     21984\n",
       "4      3866\n",
       "...     ...\n",
       "1333  10600\n",
       "1334   2205\n",
       "1335   1629\n",
       "1336   2007\n",
       "1337  29141\n",
       "\n",
       "[1338 rows x 1 columns]"
      ]
     },
     "execution_count": 36,
     "metadata": {},
     "output_type": "execute_result"
    }
   ],
   "source": [
    "df_hata"
   ]
  },
  {
   "cell_type": "code",
   "execution_count": 37,
   "id": "75e57440",
   "metadata": {},
   "outputs": [],
   "source": [
    "y_tahmin= model.predict(X)"
   ]
  },
  {
   "cell_type": "code",
   "execution_count": 38,
   "id": "b6f4095e",
   "metadata": {},
   "outputs": [],
   "source": [
    "df_hata['tahmin']=y_tahmin"
   ]
  },
  {
   "cell_type": "code",
   "execution_count": 39,
   "id": "3a17e2c9",
   "metadata": {},
   "outputs": [
    {
     "data": {
      "application/vnd.microsoft.datawrangler.viewer.v0+json": {
       "columns": [
        {
         "name": "index",
         "rawType": "int64",
         "type": "integer"
        },
        {
         "name": "y",
         "rawType": "int64",
         "type": "integer"
        },
        {
         "name": "tahmin",
         "rawType": "float64",
         "type": "float"
        }
       ],
       "conversionMethod": "pd.DataFrame",
       "ref": "84c34875-1e16-44d3-bf9c-028bf6a7dd48",
       "rows": [
        [
         "0",
         "16884",
         "25156.52366127461"
        ],
        [
         "1",
         "1725",
         "3340.655589936923"
        ],
        [
         "2",
         "4449",
         "6866.8977540093765"
        ],
        [
         "3",
         "21984",
         "3695.1665651096337"
        ],
        [
         "4",
         "3866",
         "5466.132057393363"
        ],
        [
         "5",
         "3756",
         "3631.6229001776373"
        ],
        [
         "6",
         "8240",
         "10668.440560518895"
        ],
        [
         "7",
         "7281",
         "7980.1528961364165"
        ],
        [
         "8",
         "6406",
         "8391.9435732456"
        ],
        [
         "9",
         "28923",
         "11779.945638219058"
        ],
        [
         "10",
         "2721",
         "3337.7754449592085"
        ],
        [
         "11",
         "27808",
         "35795.68064559779"
        ],
        [
         "12",
         "1826",
         "4558.1737467054645"
        ],
        [
         "13",
         "11090",
         "14787.921566427667"
        ],
        [
         "14",
         "39611",
         "32076.90207644749"
        ],
        [
         "15",
         "1837",
         "628.5946111613011"
        ],
        [
         "16",
         "10797",
         "12238.779627212803"
        ],
        [
         "17",
         "2395",
         "1809.8494807452716"
        ],
        [
         "18",
         "10602",
         "15066.367004769385"
        ],
        [
         "19",
         "36837",
         "30554.776598633718"
        ],
        [
         "20",
         "13228",
         "15844.306058663919"
        ],
        [
         "21",
         "4149",
         "6291.689404869925"
        ],
        [
         "22",
         "1137",
         "3200.411407296935"
        ],
        [
         "23",
         "37701",
         "31810.95029842033"
        ],
        [
         "24",
         "6203",
         "7707.487785321668"
        ],
        [
         "25",
         "14001",
         "12937.671806765284"
        ],
        [
         "26",
         "14451",
         "12221.361898073199"
        ],
        [
         "27",
         "12268",
         "13817.461736623722"
        ],
        [
         "28",
         "2775",
         "-86.32397754703925"
        ],
        [
         "29",
         "38711",
         "32106.2136408988"
        ],
        [
         "30",
         "35585",
         "28498.958300803082"
        ],
        [
         "31",
         "2198",
         "1671.355362532162"
        ],
        [
         "32",
         "4687",
         "4025.915975912754"
        ],
        [
         "33",
         "13770",
         "13432.427961487065"
        ],
        [
         "34",
         "51194",
         "30857.04713332023"
        ],
        [
         "35",
         "1625",
         "-578.4963825981595"
        ],
        [
         "36",
         "15612",
         "16094.537393117607"
        ],
        [
         "37",
         "2302",
         "597.239122862653"
        ],
        [
         "38",
         "39774",
         "33625.45897373486"
        ],
        [
         "39",
         "48173",
         "39616.05706850696"
        ],
        [
         "40",
         "3046",
         "3213.219085905137"
        ],
        [
         "41",
         "4949",
         "8305.98728773482"
        ],
        [
         "42",
         "6272",
         "5195.247637174878"
        ],
        [
         "43",
         "6313",
         "7819.90823159524"
        ],
        [
         "44",
         "6079",
         "10874.60992059909"
        ],
        [
         "45",
         "20630",
         "13795.418327784275"
        ],
        [
         "46",
         "3393",
         "6683.710213341437"
        ],
        [
         "47",
         "3556",
         "6598.586616165361"
        ],
        [
         "48",
         "12629",
         "10745.97376656159"
        ],
        [
         "49",
         "38709",
         "32501.999064634387"
        ]
       ],
       "shape": {
        "columns": 2,
        "rows": 1338
       }
      },
      "text/html": [
       "<div>\n",
       "<style scoped>\n",
       "    .dataframe tbody tr th:only-of-type {\n",
       "        vertical-align: middle;\n",
       "    }\n",
       "\n",
       "    .dataframe tbody tr th {\n",
       "        vertical-align: top;\n",
       "    }\n",
       "\n",
       "    .dataframe thead th {\n",
       "        text-align: right;\n",
       "    }\n",
       "</style>\n",
       "<table border=\"1\" class=\"dataframe\">\n",
       "  <thead>\n",
       "    <tr style=\"text-align: right;\">\n",
       "      <th></th>\n",
       "      <th>y</th>\n",
       "      <th>tahmin</th>\n",
       "    </tr>\n",
       "  </thead>\n",
       "  <tbody>\n",
       "    <tr>\n",
       "      <th>0</th>\n",
       "      <td>16884</td>\n",
       "      <td>25156.523661</td>\n",
       "    </tr>\n",
       "    <tr>\n",
       "      <th>1</th>\n",
       "      <td>1725</td>\n",
       "      <td>3340.655590</td>\n",
       "    </tr>\n",
       "    <tr>\n",
       "      <th>2</th>\n",
       "      <td>4449</td>\n",
       "      <td>6866.897754</td>\n",
       "    </tr>\n",
       "    <tr>\n",
       "      <th>3</th>\n",
       "      <td>21984</td>\n",
       "      <td>3695.166565</td>\n",
       "    </tr>\n",
       "    <tr>\n",
       "      <th>4</th>\n",
       "      <td>3866</td>\n",
       "      <td>5466.132057</td>\n",
       "    </tr>\n",
       "    <tr>\n",
       "      <th>...</th>\n",
       "      <td>...</td>\n",
       "      <td>...</td>\n",
       "    </tr>\n",
       "    <tr>\n",
       "      <th>1333</th>\n",
       "      <td>10600</td>\n",
       "      <td>12202.408092</td>\n",
       "    </tr>\n",
       "    <tr>\n",
       "      <th>1334</th>\n",
       "      <td>2205</td>\n",
       "      <td>3361.307679</td>\n",
       "    </tr>\n",
       "    <tr>\n",
       "      <th>1335</th>\n",
       "      <td>1629</td>\n",
       "      <td>4008.813262</td>\n",
       "    </tr>\n",
       "    <tr>\n",
       "      <th>1336</th>\n",
       "      <td>2007</td>\n",
       "      <td>1134.725931</td>\n",
       "    </tr>\n",
       "    <tr>\n",
       "      <th>1337</th>\n",
       "      <td>29141</td>\n",
       "      <td>37248.656157</td>\n",
       "    </tr>\n",
       "  </tbody>\n",
       "</table>\n",
       "<p>1338 rows × 2 columns</p>\n",
       "</div>"
      ],
      "text/plain": [
       "          y        tahmin\n",
       "0     16884  25156.523661\n",
       "1      1725   3340.655590\n",
       "2      4449   6866.897754\n",
       "3     21984   3695.166565\n",
       "4      3866   5466.132057\n",
       "...     ...           ...\n",
       "1333  10600  12202.408092\n",
       "1334   2205   3361.307679\n",
       "1335   1629   4008.813262\n",
       "1336   2007   1134.725931\n",
       "1337  29141  37248.656157\n",
       "\n",
       "[1338 rows x 2 columns]"
      ]
     },
     "execution_count": 39,
     "metadata": {},
     "output_type": "execute_result"
    }
   ],
   "source": [
    "df_hata"
   ]
  },
  {
   "cell_type": "code",
   "execution_count": 42,
   "id": "4f159446",
   "metadata": {},
   "outputs": [],
   "source": [
    "df_hata[\"error\"]=y-y_tahmin"
   ]
  },
  {
   "cell_type": "code",
   "execution_count": 44,
   "id": "ff82f80c",
   "metadata": {},
   "outputs": [
    {
     "data": {
      "application/vnd.microsoft.datawrangler.viewer.v0+json": {
       "columns": [
        {
         "name": "index",
         "rawType": "int64",
         "type": "integer"
        },
        {
         "name": "y",
         "rawType": "int64",
         "type": "integer"
        },
        {
         "name": "tahmin",
         "rawType": "float64",
         "type": "float"
        },
        {
         "name": "error",
         "rawType": "float64",
         "type": "float"
        }
       ],
       "conversionMethod": "pd.DataFrame",
       "ref": "af109027-35dd-432b-b8df-a884ad619782",
       "rows": [
        [
         "0",
         "16884",
         "25156.52366127461",
         "-8272.523661274608"
        ],
        [
         "1",
         "1725",
         "3340.655589936923",
         "-1615.6555899369232"
        ],
        [
         "2",
         "4449",
         "6866.8977540093765",
         "-2417.8977540093765"
        ],
        [
         "3",
         "21984",
         "3695.1665651096337",
         "18288.833434890366"
        ],
        [
         "4",
         "3866",
         "5466.132057393363",
         "-1600.1320573933626"
        ],
        [
         "5",
         "3756",
         "3631.6229001776373",
         "124.37709982236265"
        ],
        [
         "6",
         "8240",
         "10668.440560518895",
         "-2428.440560518895"
        ],
        [
         "7",
         "7281",
         "7980.1528961364165",
         "-699.1528961364165"
        ],
        [
         "8",
         "6406",
         "8391.9435732456",
         "-1985.9435732456004"
        ],
        [
         "9",
         "28923",
         "11779.945638219058",
         "17143.05436178094"
        ]
       ],
       "shape": {
        "columns": 3,
        "rows": 10
       }
      },
      "text/html": [
       "<div>\n",
       "<style scoped>\n",
       "    .dataframe tbody tr th:only-of-type {\n",
       "        vertical-align: middle;\n",
       "    }\n",
       "\n",
       "    .dataframe tbody tr th {\n",
       "        vertical-align: top;\n",
       "    }\n",
       "\n",
       "    .dataframe thead th {\n",
       "        text-align: right;\n",
       "    }\n",
       "</style>\n",
       "<table border=\"1\" class=\"dataframe\">\n",
       "  <thead>\n",
       "    <tr style=\"text-align: right;\">\n",
       "      <th></th>\n",
       "      <th>y</th>\n",
       "      <th>tahmin</th>\n",
       "      <th>error</th>\n",
       "    </tr>\n",
       "  </thead>\n",
       "  <tbody>\n",
       "    <tr>\n",
       "      <th>0</th>\n",
       "      <td>16884</td>\n",
       "      <td>25156.523661</td>\n",
       "      <td>-8272.523661</td>\n",
       "    </tr>\n",
       "    <tr>\n",
       "      <th>1</th>\n",
       "      <td>1725</td>\n",
       "      <td>3340.655590</td>\n",
       "      <td>-1615.655590</td>\n",
       "    </tr>\n",
       "    <tr>\n",
       "      <th>2</th>\n",
       "      <td>4449</td>\n",
       "      <td>6866.897754</td>\n",
       "      <td>-2417.897754</td>\n",
       "    </tr>\n",
       "    <tr>\n",
       "      <th>3</th>\n",
       "      <td>21984</td>\n",
       "      <td>3695.166565</td>\n",
       "      <td>18288.833435</td>\n",
       "    </tr>\n",
       "    <tr>\n",
       "      <th>4</th>\n",
       "      <td>3866</td>\n",
       "      <td>5466.132057</td>\n",
       "      <td>-1600.132057</td>\n",
       "    </tr>\n",
       "    <tr>\n",
       "      <th>5</th>\n",
       "      <td>3756</td>\n",
       "      <td>3631.622900</td>\n",
       "      <td>124.377100</td>\n",
       "    </tr>\n",
       "    <tr>\n",
       "      <th>6</th>\n",
       "      <td>8240</td>\n",
       "      <td>10668.440561</td>\n",
       "      <td>-2428.440561</td>\n",
       "    </tr>\n",
       "    <tr>\n",
       "      <th>7</th>\n",
       "      <td>7281</td>\n",
       "      <td>7980.152896</td>\n",
       "      <td>-699.152896</td>\n",
       "    </tr>\n",
       "    <tr>\n",
       "      <th>8</th>\n",
       "      <td>6406</td>\n",
       "      <td>8391.943573</td>\n",
       "      <td>-1985.943573</td>\n",
       "    </tr>\n",
       "    <tr>\n",
       "      <th>9</th>\n",
       "      <td>28923</td>\n",
       "      <td>11779.945638</td>\n",
       "      <td>17143.054362</td>\n",
       "    </tr>\n",
       "  </tbody>\n",
       "</table>\n",
       "</div>"
      ],
      "text/plain": [
       "       y        tahmin         error\n",
       "0  16884  25156.523661  -8272.523661\n",
       "1   1725   3340.655590  -1615.655590\n",
       "2   4449   6866.897754  -2417.897754\n",
       "3  21984   3695.166565  18288.833435\n",
       "4   3866   5466.132057  -1600.132057\n",
       "5   3756   3631.622900    124.377100\n",
       "6   8240  10668.440561  -2428.440561\n",
       "7   7281   7980.152896   -699.152896\n",
       "8   6406   8391.943573  -1985.943573\n",
       "9  28923  11779.945638  17143.054362"
      ]
     },
     "execution_count": 44,
     "metadata": {},
     "output_type": "execute_result"
    }
   ],
   "source": [
    "df_hata.head(10)"
   ]
  },
  {
   "cell_type": "code",
   "execution_count": 45,
   "id": "51571d4d",
   "metadata": {},
   "outputs": [],
   "source": [
    "df_hata[\"square_error\"]=df_hata[\"error\"]**2"
   ]
  },
  {
   "cell_type": "code",
   "execution_count": 46,
   "id": "734c09af",
   "metadata": {},
   "outputs": [
    {
     "data": {
      "application/vnd.microsoft.datawrangler.viewer.v0+json": {
       "columns": [
        {
         "name": "index",
         "rawType": "int64",
         "type": "integer"
        },
        {
         "name": "y",
         "rawType": "int64",
         "type": "integer"
        },
        {
         "name": "tahmin",
         "rawType": "float64",
         "type": "float"
        },
        {
         "name": "error",
         "rawType": "float64",
         "type": "float"
        },
        {
         "name": "square_error",
         "rawType": "float64",
         "type": "float"
        }
       ],
       "conversionMethod": "pd.DataFrame",
       "ref": "58235058-4e7d-4908-b614-654b43be1576",
       "rows": [
        [
         "0",
         "16884",
         "25156.52366127461",
         "-8272.523661274608",
         "68434647.72634825"
        ],
        [
         "1",
         "1725",
         "3340.655589936923",
         "-1615.6555899369232",
         "2610342.9852944273"
        ],
        [
         "2",
         "4449",
         "6866.8977540093765",
         "-2417.8977540093765",
         "5846229.548843588"
        ],
        [
         "3",
         "21984",
         "3695.1665651096337",
         "18288.833434890366",
         "334481428.4091638"
        ],
        [
         "4",
         "3866",
         "5466.132057393363",
         "-1600.1320573933626",
         "2560422.601097916"
        ]
       ],
       "shape": {
        "columns": 4,
        "rows": 5
       }
      },
      "text/html": [
       "<div>\n",
       "<style scoped>\n",
       "    .dataframe tbody tr th:only-of-type {\n",
       "        vertical-align: middle;\n",
       "    }\n",
       "\n",
       "    .dataframe tbody tr th {\n",
       "        vertical-align: top;\n",
       "    }\n",
       "\n",
       "    .dataframe thead th {\n",
       "        text-align: right;\n",
       "    }\n",
       "</style>\n",
       "<table border=\"1\" class=\"dataframe\">\n",
       "  <thead>\n",
       "    <tr style=\"text-align: right;\">\n",
       "      <th></th>\n",
       "      <th>y</th>\n",
       "      <th>tahmin</th>\n",
       "      <th>error</th>\n",
       "      <th>square_error</th>\n",
       "    </tr>\n",
       "  </thead>\n",
       "  <tbody>\n",
       "    <tr>\n",
       "      <th>0</th>\n",
       "      <td>16884</td>\n",
       "      <td>25156.523661</td>\n",
       "      <td>-8272.523661</td>\n",
       "      <td>6.843465e+07</td>\n",
       "    </tr>\n",
       "    <tr>\n",
       "      <th>1</th>\n",
       "      <td>1725</td>\n",
       "      <td>3340.655590</td>\n",
       "      <td>-1615.655590</td>\n",
       "      <td>2.610343e+06</td>\n",
       "    </tr>\n",
       "    <tr>\n",
       "      <th>2</th>\n",
       "      <td>4449</td>\n",
       "      <td>6866.897754</td>\n",
       "      <td>-2417.897754</td>\n",
       "      <td>5.846230e+06</td>\n",
       "    </tr>\n",
       "    <tr>\n",
       "      <th>3</th>\n",
       "      <td>21984</td>\n",
       "      <td>3695.166565</td>\n",
       "      <td>18288.833435</td>\n",
       "      <td>3.344814e+08</td>\n",
       "    </tr>\n",
       "    <tr>\n",
       "      <th>4</th>\n",
       "      <td>3866</td>\n",
       "      <td>5466.132057</td>\n",
       "      <td>-1600.132057</td>\n",
       "      <td>2.560423e+06</td>\n",
       "    </tr>\n",
       "  </tbody>\n",
       "</table>\n",
       "</div>"
      ],
      "text/plain": [
       "       y        tahmin         error  square_error\n",
       "0  16884  25156.523661  -8272.523661  6.843465e+07\n",
       "1   1725   3340.655590  -1615.655590  2.610343e+06\n",
       "2   4449   6866.897754  -2417.897754  5.846230e+06\n",
       "3  21984   3695.166565  18288.833435  3.344814e+08\n",
       "4   3866   5466.132057  -1600.132057  2.560423e+06"
      ]
     },
     "execution_count": 46,
     "metadata": {},
     "output_type": "execute_result"
    }
   ],
   "source": [
    "df_hata.head()"
   ]
  },
  {
   "cell_type": "code",
   "execution_count": 47,
   "id": "2f8e5cd0",
   "metadata": {},
   "outputs": [],
   "source": [
    "df_hata[\"abs_error\"]=np.abs(df_hata[\"error\"])"
   ]
  },
  {
   "cell_type": "code",
   "execution_count": 48,
   "id": "0e67c385",
   "metadata": {},
   "outputs": [
    {
     "data": {
      "application/vnd.microsoft.datawrangler.viewer.v0+json": {
       "columns": [
        {
         "name": "index",
         "rawType": "int64",
         "type": "integer"
        },
        {
         "name": "y",
         "rawType": "int64",
         "type": "integer"
        },
        {
         "name": "tahmin",
         "rawType": "float64",
         "type": "float"
        },
        {
         "name": "error",
         "rawType": "float64",
         "type": "float"
        },
        {
         "name": "square_error",
         "rawType": "float64",
         "type": "float"
        },
        {
         "name": "abs_error",
         "rawType": "float64",
         "type": "float"
        }
       ],
       "conversionMethod": "pd.DataFrame",
       "ref": "ab882c10-fa42-46c4-865a-a956d664777b",
       "rows": [
        [
         "0",
         "16884",
         "25156.52366127461",
         "-8272.523661274608",
         "68434647.72634825",
         "8272.523661274608"
        ],
        [
         "1",
         "1725",
         "3340.655589936923",
         "-1615.6555899369232",
         "2610342.9852944273",
         "1615.6555899369232"
        ],
        [
         "2",
         "4449",
         "6866.8977540093765",
         "-2417.8977540093765",
         "5846229.548843588",
         "2417.8977540093765"
        ],
        [
         "3",
         "21984",
         "3695.1665651096337",
         "18288.833434890366",
         "334481428.4091638",
         "18288.833434890366"
        ],
        [
         "4",
         "3866",
         "5466.132057393363",
         "-1600.1320573933626",
         "2560422.601097916",
         "1600.1320573933626"
        ]
       ],
       "shape": {
        "columns": 5,
        "rows": 5
       }
      },
      "text/html": [
       "<div>\n",
       "<style scoped>\n",
       "    .dataframe tbody tr th:only-of-type {\n",
       "        vertical-align: middle;\n",
       "    }\n",
       "\n",
       "    .dataframe tbody tr th {\n",
       "        vertical-align: top;\n",
       "    }\n",
       "\n",
       "    .dataframe thead th {\n",
       "        text-align: right;\n",
       "    }\n",
       "</style>\n",
       "<table border=\"1\" class=\"dataframe\">\n",
       "  <thead>\n",
       "    <tr style=\"text-align: right;\">\n",
       "      <th></th>\n",
       "      <th>y</th>\n",
       "      <th>tahmin</th>\n",
       "      <th>error</th>\n",
       "      <th>square_error</th>\n",
       "      <th>abs_error</th>\n",
       "    </tr>\n",
       "  </thead>\n",
       "  <tbody>\n",
       "    <tr>\n",
       "      <th>0</th>\n",
       "      <td>16884</td>\n",
       "      <td>25156.523661</td>\n",
       "      <td>-8272.523661</td>\n",
       "      <td>6.843465e+07</td>\n",
       "      <td>8272.523661</td>\n",
       "    </tr>\n",
       "    <tr>\n",
       "      <th>1</th>\n",
       "      <td>1725</td>\n",
       "      <td>3340.655590</td>\n",
       "      <td>-1615.655590</td>\n",
       "      <td>2.610343e+06</td>\n",
       "      <td>1615.655590</td>\n",
       "    </tr>\n",
       "    <tr>\n",
       "      <th>2</th>\n",
       "      <td>4449</td>\n",
       "      <td>6866.897754</td>\n",
       "      <td>-2417.897754</td>\n",
       "      <td>5.846230e+06</td>\n",
       "      <td>2417.897754</td>\n",
       "    </tr>\n",
       "    <tr>\n",
       "      <th>3</th>\n",
       "      <td>21984</td>\n",
       "      <td>3695.166565</td>\n",
       "      <td>18288.833435</td>\n",
       "      <td>3.344814e+08</td>\n",
       "      <td>18288.833435</td>\n",
       "    </tr>\n",
       "    <tr>\n",
       "      <th>4</th>\n",
       "      <td>3866</td>\n",
       "      <td>5466.132057</td>\n",
       "      <td>-1600.132057</td>\n",
       "      <td>2.560423e+06</td>\n",
       "      <td>1600.132057</td>\n",
       "    </tr>\n",
       "  </tbody>\n",
       "</table>\n",
       "</div>"
      ],
      "text/plain": [
       "       y        tahmin         error  square_error     abs_error\n",
       "0  16884  25156.523661  -8272.523661  6.843465e+07   8272.523661\n",
       "1   1725   3340.655590  -1615.655590  2.610343e+06   1615.655590\n",
       "2   4449   6866.897754  -2417.897754  5.846230e+06   2417.897754\n",
       "3  21984   3695.166565  18288.833435  3.344814e+08  18288.833435\n",
       "4   3866   5466.132057  -1600.132057  2.560423e+06   1600.132057"
      ]
     },
     "execution_count": 48,
     "metadata": {},
     "output_type": "execute_result"
    }
   ],
   "source": [
    "df_hata.head()"
   ]
  },
  {
   "cell_type": "code",
   "execution_count": 49,
   "id": "cf62ded0",
   "metadata": {},
   "outputs": [],
   "source": [
    "df_hata[\"percentage_error\"]=df_hata[\"abs_error\"]/df_hata[\"y\"]"
   ]
  },
  {
   "cell_type": "code",
   "execution_count": 50,
   "id": "4830c296",
   "metadata": {},
   "outputs": [
    {
     "data": {
      "application/vnd.microsoft.datawrangler.viewer.v0+json": {
       "columns": [
        {
         "name": "index",
         "rawType": "int64",
         "type": "integer"
        },
        {
         "name": "y",
         "rawType": "int64",
         "type": "integer"
        },
        {
         "name": "tahmin",
         "rawType": "float64",
         "type": "float"
        },
        {
         "name": "error",
         "rawType": "float64",
         "type": "float"
        },
        {
         "name": "square_error",
         "rawType": "float64",
         "type": "float"
        },
        {
         "name": "abs_error",
         "rawType": "float64",
         "type": "float"
        },
        {
         "name": "percentage_error",
         "rawType": "float64",
         "type": "float"
        }
       ],
       "conversionMethod": "pd.DataFrame",
       "ref": "dcca1b94-308e-4809-9822-42b4a5ef484c",
       "rows": [
        [
         "0",
         "16884",
         "25156.52366127461",
         "-8272.523661274608",
         "68434647.72634825",
         "8272.523661274608",
         "0.48996231113922106"
        ],
        [
         "1",
         "1725",
         "3340.655589936923",
         "-1615.6555899369232",
         "2610342.9852944273",
         "1615.6555899369232",
         "0.9366119361953178"
        ],
        [
         "2",
         "4449",
         "6866.8977540093765",
         "-2417.8977540093765",
         "5846229.548843588",
         "2417.8977540093765",
         "0.5434699379656949"
        ],
        [
         "3",
         "21984",
         "3695.1665651096337",
         "18288.833434890366",
         "334481428.4091638",
         "18288.833434890366",
         "0.8319156402333682"
        ],
        [
         "4",
         "3866",
         "5466.132057393363",
         "-1600.1320573933626",
         "2560422.601097916",
         "1600.1320573933626",
         "0.41389861805312017"
        ]
       ],
       "shape": {
        "columns": 6,
        "rows": 5
       }
      },
      "text/html": [
       "<div>\n",
       "<style scoped>\n",
       "    .dataframe tbody tr th:only-of-type {\n",
       "        vertical-align: middle;\n",
       "    }\n",
       "\n",
       "    .dataframe tbody tr th {\n",
       "        vertical-align: top;\n",
       "    }\n",
       "\n",
       "    .dataframe thead th {\n",
       "        text-align: right;\n",
       "    }\n",
       "</style>\n",
       "<table border=\"1\" class=\"dataframe\">\n",
       "  <thead>\n",
       "    <tr style=\"text-align: right;\">\n",
       "      <th></th>\n",
       "      <th>y</th>\n",
       "      <th>tahmin</th>\n",
       "      <th>error</th>\n",
       "      <th>square_error</th>\n",
       "      <th>abs_error</th>\n",
       "      <th>percentage_error</th>\n",
       "    </tr>\n",
       "  </thead>\n",
       "  <tbody>\n",
       "    <tr>\n",
       "      <th>0</th>\n",
       "      <td>16884</td>\n",
       "      <td>25156.523661</td>\n",
       "      <td>-8272.523661</td>\n",
       "      <td>6.843465e+07</td>\n",
       "      <td>8272.523661</td>\n",
       "      <td>0.489962</td>\n",
       "    </tr>\n",
       "    <tr>\n",
       "      <th>1</th>\n",
       "      <td>1725</td>\n",
       "      <td>3340.655590</td>\n",
       "      <td>-1615.655590</td>\n",
       "      <td>2.610343e+06</td>\n",
       "      <td>1615.655590</td>\n",
       "      <td>0.936612</td>\n",
       "    </tr>\n",
       "    <tr>\n",
       "      <th>2</th>\n",
       "      <td>4449</td>\n",
       "      <td>6866.897754</td>\n",
       "      <td>-2417.897754</td>\n",
       "      <td>5.846230e+06</td>\n",
       "      <td>2417.897754</td>\n",
       "      <td>0.543470</td>\n",
       "    </tr>\n",
       "    <tr>\n",
       "      <th>3</th>\n",
       "      <td>21984</td>\n",
       "      <td>3695.166565</td>\n",
       "      <td>18288.833435</td>\n",
       "      <td>3.344814e+08</td>\n",
       "      <td>18288.833435</td>\n",
       "      <td>0.831916</td>\n",
       "    </tr>\n",
       "    <tr>\n",
       "      <th>4</th>\n",
       "      <td>3866</td>\n",
       "      <td>5466.132057</td>\n",
       "      <td>-1600.132057</td>\n",
       "      <td>2.560423e+06</td>\n",
       "      <td>1600.132057</td>\n",
       "      <td>0.413899</td>\n",
       "    </tr>\n",
       "  </tbody>\n",
       "</table>\n",
       "</div>"
      ],
      "text/plain": [
       "       y        tahmin         error  square_error     abs_error  \\\n",
       "0  16884  25156.523661  -8272.523661  6.843465e+07   8272.523661   \n",
       "1   1725   3340.655590  -1615.655590  2.610343e+06   1615.655590   \n",
       "2   4449   6866.897754  -2417.897754  5.846230e+06   2417.897754   \n",
       "3  21984   3695.166565  18288.833435  3.344814e+08  18288.833435   \n",
       "4   3866   5466.132057  -1600.132057  2.560423e+06   1600.132057   \n",
       "\n",
       "   percentage_error  \n",
       "0          0.489962  \n",
       "1          0.936612  \n",
       "2          0.543470  \n",
       "3          0.831916  \n",
       "4          0.413899  "
      ]
     },
     "execution_count": 50,
     "metadata": {},
     "output_type": "execute_result"
    }
   ],
   "source": [
    "df_hata.head()"
   ]
  },
  {
   "cell_type": "code",
   "execution_count": 51,
   "id": "13f12923",
   "metadata": {},
   "outputs": [
    {
     "data": {
      "text/plain": [
       "y                   1.326993e+04\n",
       "tahmin              1.326993e+04\n",
       "error              -5.927350e-13\n",
       "square_error        3.650633e+07\n",
       "abs_error           4.170360e+03\n",
       "percentage_error    4.206582e-01\n",
       "dtype: float64"
      ]
     },
     "execution_count": 51,
     "metadata": {},
     "output_type": "execute_result"
    }
   ],
   "source": [
    "df_hata.mean()"
   ]
  },
  {
   "cell_type": "code",
   "execution_count": 53,
   "id": "b84864e1",
   "metadata": {},
   "outputs": [
    {
     "data": {
      "text/plain": [
       "np.float64(36506329.65100565)"
      ]
     },
     "execution_count": 53,
     "metadata": {},
     "output_type": "execute_result"
    }
   ],
   "source": [
    "mean_squared_error(y,y_tahmin)"
   ]
  },
  {
   "cell_type": "code",
   "execution_count": 54,
   "id": "6e9206e5",
   "metadata": {},
   "outputs": [
    {
     "data": {
      "text/plain": [
       "np.float64(4170.359803898071)"
      ]
     },
     "execution_count": 54,
     "metadata": {},
     "output_type": "execute_result"
    }
   ],
   "source": [
    "mean_absolute_error(y,y_tahmin)"
   ]
  },
  {
   "cell_type": "code",
   "execution_count": 55,
   "id": "2f10dfb6",
   "metadata": {},
   "outputs": [
    {
     "data": {
      "text/plain": [
       "np.float64(0.42065817129070754)"
      ]
     },
     "execution_count": 55,
     "metadata": {},
     "output_type": "execute_result"
    }
   ],
   "source": [
    "mean_absolute_percentage_error(y,y_tahmin)"
   ]
  },
  {
   "cell_type": "code",
   "execution_count": null,
   "id": "b3c3f4f8",
   "metadata": {},
   "outputs": [],
   "source": []
  }
 ],
 "metadata": {
  "kernelspec": {
   "display_name": "Python 3",
   "language": "python",
   "name": "python3"
  },
  "language_info": {
   "codemirror_mode": {
    "name": "ipython",
    "version": 3
   },
   "file_extension": ".py",
   "mimetype": "text/x-python",
   "name": "python",
   "nbconvert_exporter": "python",
   "pygments_lexer": "ipython3",
   "version": "3.12.9"
  }
 },
 "nbformat": 4,
 "nbformat_minor": 5
}
